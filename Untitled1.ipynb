{
 "cells": [
  {
   "cell_type": "code",
   "execution_count": 3,
   "id": "01beae2f-3195-449f-8cc3-fe33faba3f02",
   "metadata": {},
   "outputs": [
    {
     "name": "stdout",
     "output_type": "stream",
     "text": [
      "athlete_events\n",
      "cities\n",
      "countries\n",
      "gdp\n",
      "noc_regions\n",
      "political_regime\n",
      "poverty\n",
      "healthcare_expenditure_gdp\n",
      "obesity_adults\n",
      "population\n"
     ]
    }
   ],
   "source": []
  },
  {
   "cell_type": "code",
   "execution_count": 4,
   "id": "860a3744-fcf9-452e-a3fd-5752147da0df",
   "metadata": {},
   "outputs": [
    {
     "name": "stderr",
     "output_type": "stream",
     "text": [
      "/tmp/ipykernel_30/3861481022.py:25: UserWarning: pandas only supports SQLAlchemy connectable (engine/connection) or database string URI or sqlite3 DBAPI2 connection. Other DBAPI2 objects are not tested. Please consider using SQLAlchemy.\n",
      "  return pd.read_sql_query(q, pgconn)\n"
     ]
    },
    {
     "ename": "TypeError",
     "evalue": "unhashable type: 'DataFrame'",
     "output_type": "error",
     "traceback": [
      "\u001b[0;31m---------------------------------------------------------------------------\u001b[0m",
      "\u001b[0;31mTypeError\u001b[0m                                 Traceback (most recent call last)",
      "Cell \u001b[0;32mIn[4], line 30\u001b[0m\n\u001b[1;32m     24\u001b[0m     q \u001b[38;5;241m=\u001b[39m \u001b[38;5;124mf\u001b[39m\u001b[38;5;124m\"\u001b[39m\u001b[38;5;124mSELECT * FROM \u001b[39m\u001b[38;5;132;01m{\u001b[39;00mtable_name\u001b[38;5;132;01m}\u001b[39;00m\u001b[38;5;124m\"\u001b[39m\n\u001b[1;32m     25\u001b[0m     \u001b[38;5;28;01mreturn\u001b[39;00m pd\u001b[38;5;241m.\u001b[39mread_sql_query(q, pgconn)\n\u001b[0;32m---> 30\u001b[0m dataframes \u001b[38;5;241m=\u001b[39m {fetch_data(file) \u001b[38;5;28;01mfor\u001b[39;00m file \u001b[38;5;129;01min\u001b[39;00m csv_files}\n\u001b[1;32m     35\u001b[0m df \u001b[38;5;241m=\u001b[39m dataframes[\u001b[38;5;124m'\u001b[39m\u001b[38;5;124mathlete_events\u001b[39m\u001b[38;5;124m'\u001b[39m]\u001b[38;5;241m.\u001b[39mmerge(dataframes[\u001b[38;5;124m'\u001b[39m\u001b[38;5;124mnoc_regions\u001b[39m\u001b[38;5;124m'\u001b[39m], left_on\u001b[38;5;241m=\u001b[39m\u001b[38;5;124m'\u001b[39m\u001b[38;5;124mNOC\u001b[39m\u001b[38;5;124m'\u001b[39m, right_on\u001b[38;5;241m=\u001b[39m\u001b[38;5;124m'\u001b[39m\u001b[38;5;124mNOC\u001b[39m\u001b[38;5;124m'\u001b[39m)\n\u001b[1;32m     36\u001b[0m df\u001b[38;5;241m.\u001b[39mrename(columns\u001b[38;5;241m=\u001b[39m{\u001b[38;5;124m'\u001b[39m\u001b[38;5;124mregion\u001b[39m\u001b[38;5;124m'\u001b[39m:\u001b[38;5;124m'\u001b[39m\u001b[38;5;124mEntity\u001b[39m\u001b[38;5;124m'\u001b[39m})\n",
      "Cell \u001b[0;32mIn[4], line 30\u001b[0m, in \u001b[0;36m<setcomp>\u001b[0;34m(.0)\u001b[0m\n\u001b[1;32m     24\u001b[0m     q \u001b[38;5;241m=\u001b[39m \u001b[38;5;124mf\u001b[39m\u001b[38;5;124m\"\u001b[39m\u001b[38;5;124mSELECT * FROM \u001b[39m\u001b[38;5;132;01m{\u001b[39;00mtable_name\u001b[38;5;132;01m}\u001b[39;00m\u001b[38;5;124m\"\u001b[39m\n\u001b[1;32m     25\u001b[0m     \u001b[38;5;28;01mreturn\u001b[39;00m pd\u001b[38;5;241m.\u001b[39mread_sql_query(q, pgconn)\n\u001b[0;32m---> 30\u001b[0m dataframes \u001b[38;5;241m=\u001b[39m {fetch_data(file) \u001b[38;5;28;01mfor\u001b[39;00m file \u001b[38;5;129;01min\u001b[39;00m csv_files}\n\u001b[1;32m     35\u001b[0m df \u001b[38;5;241m=\u001b[39m dataframes[\u001b[38;5;124m'\u001b[39m\u001b[38;5;124mathlete_events\u001b[39m\u001b[38;5;124m'\u001b[39m]\u001b[38;5;241m.\u001b[39mmerge(dataframes[\u001b[38;5;124m'\u001b[39m\u001b[38;5;124mnoc_regions\u001b[39m\u001b[38;5;124m'\u001b[39m], left_on\u001b[38;5;241m=\u001b[39m\u001b[38;5;124m'\u001b[39m\u001b[38;5;124mNOC\u001b[39m\u001b[38;5;124m'\u001b[39m, right_on\u001b[38;5;241m=\u001b[39m\u001b[38;5;124m'\u001b[39m\u001b[38;5;124mNOC\u001b[39m\u001b[38;5;124m'\u001b[39m)\n\u001b[1;32m     36\u001b[0m df\u001b[38;5;241m.\u001b[39mrename(columns\u001b[38;5;241m=\u001b[39m{\u001b[38;5;124m'\u001b[39m\u001b[38;5;124mregion\u001b[39m\u001b[38;5;124m'\u001b[39m:\u001b[38;5;124m'\u001b[39m\u001b[38;5;124mEntity\u001b[39m\u001b[38;5;124m'\u001b[39m})\n",
      "\u001b[0;31mTypeError\u001b[0m: unhashable type: 'DataFrame'"
     ]
    }
   ],
   "source": [
    "import psycopg2\n",
    "import pandas as pd\n",
    "from psycopg2 import Error\n",
    "import os\n",
    "\n",
    "csv_files = [\n",
    "    'athlete_events',\n",
    "    'noc_regions', \n",
    "    'gdp',\n",
    "    'healthcare_expenditure_gdp',\n",
    "    'obesity_adults',\n",
    "    'political_regime',\n",
    "    'poverty',\n",
    "    'population']\n",
    "\n",
    "pgconn = psycopg2.connect(\n",
    "    host = 'postgres',\n",
    "    user = 'postgres',\n",
    "    port = '5432',\n",
    "    password = 'pass',\n",
    "    database = 'athletes_successes')\n",
    "\n",
    "def fetch_data(table_name):\n",
    "    q = f\"SELECT * FROM {table_name}\"\n",
    "    return pd.read_sql_query(q, pgconn)\n",
    "\n",
    "\n",
    "\n",
    "\n",
    "dataframes = {fetch_data(file) for file in csv_files}\n",
    "\n",
    "        \n",
    "\n",
    "\n",
    "df = dataframes['athlete_events'].merge(dataframes['noc_regions'], left_on='NOC', right_on='NOC')\n",
    "df.rename(columns={'region':'Entity'})\n",
    "\n",
    "\n",
    "dataframes['gdp'].rename(columns={'GDP per capita':'GDP'}, inplace=True)\n",
    "dataframes['gdp'] = dataframes['gdp'][['Entity','Year','GDP']]\n",
    "\n",
    "dataframes['healthcare_expenditure_gdp'] .rename(columns= {'Current health expenditure (CHE) as percentage of gross domestic product (GDP) (%)':'Health exp'}, inplace=True)\n",
    "dataframes['healthcare_expenditure_gdp'] .drop(columns={'Code'}, inplace=True)\n",
    "\n",
    "dataframes['obesity_adults'].rename(columns= {'Prevalence of obesity among adults, BMI >= 30 (crude estimate) (%) - Sex: both sexes - Age group: 18+  years':'Obesity'}, inplace=True)\n",
    "dataframes['obesity_adults'].drop(columns={'Code'}, inplace=True)\n",
    "\n",
    "dataframes['political_regime'].drop(columns={'Code'}, inplace=True)\n",
    "mapping = {0: 'closed autocracy', 1: 'electoral autocracy', 2: 'electoral democracy', 3: 'liberal democracy'}\n",
    "dataframes['political_regime']['Political regime'] = dataframes['political_regime']['Political regime'].replace(mapping)\n",
    "\n",
    "dataframes['poverty'].rename(columns={'Contry':'Entity','Share below $1 a day':'1$', 'Share below $2.15 a day':'2.15$', 'Share below $3.65 a day':'3.65$', 'Share below $10 a day':'10$'}, inplace= True)\n",
    "dataframes['poverty'] = dataframes['poverty'][['Entity', 'Year', '1$', '2.15$', '3.65$', '10$']]\n",
    "\n",
    "dataframes['population'].drop(columns={'Code'}, inplace=True)\n",
    "dataframes['population'].rename(columns={'Population (historical estimates)':'Population'}, inplace=True)\n",
    "dataframes['population']['Population_20_y_bef'] = dataframes['population'].groupby('Entity')['Population'].transform(lambda x: x.shift(3))\n",
    "\n",
    "dataframes['population'] = dataframes['population'].loc[dataframes['population']['Year']>1890]\n",
    "\n",
    "def df_merging(dfs):\n",
    "    merged_df = dfs[1]\n",
    "    dfs = dfs[2:]\n",
    "    for df in dfs:\n",
    "        merged_df = merged_df.merge(df, how='outer', on=['Entity','Year'])\n",
    "    return merged_df\n",
    "\n",
    "countries_situation = df_merging(dataframes)\n",
    "\n",
    "countries_situation.head()\n",
    "pgconn.close()"
   ]
  }
 ],
 "metadata": {
  "kernelspec": {
   "display_name": "Python 3 (ipykernel)",
   "language": "python",
   "name": "python3"
  },
  "language_info": {
   "codemirror_mode": {
    "name": "ipython",
    "version": 3
   },
   "file_extension": ".py",
   "mimetype": "text/x-python",
   "name": "python",
   "nbconvert_exporter": "python",
   "pygments_lexer": "ipython3",
   "version": "3.10.14"
  }
 },
 "nbformat": 4,
 "nbformat_minor": 5
}
